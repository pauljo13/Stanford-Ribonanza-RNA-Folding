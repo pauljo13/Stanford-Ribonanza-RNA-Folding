{
 "cells": [
  {
   "cell_type": "code",
   "execution_count": 19,
   "metadata": {},
   "outputs": [
    {
     "ename": "ImportError",
     "evalue": "cannot import name 'pdp_isolate' from 'pdpbox.pdp' (/Users/bumsoojoe/anaconda3/envs/py/lib/python3.8/site-packages/pdpbox/pdp.py)",
     "output_type": "error",
     "traceback": [
      "\u001b[0;31m---------------------------------------------------------------------------\u001b[0m",
      "\u001b[0;31mImportError\u001b[0m                               Traceback (most recent call last)",
      "\u001b[1;32m/Users/bumsoojoe/Desktop/kaggel project/Stanford-Ribonanza-RNA-Folding/test.ipynb 셀 1\u001b[0m line \u001b[0;36m1\n\u001b[1;32m     <a href='vscode-notebook-cell:/Users/bumsoojoe/Desktop/kaggel%20project/Stanford-Ribonanza-RNA-Folding/test.ipynb#W0sZmlsZQ%3D%3D?line=14'>15</a>\u001b[0m \u001b[39mfrom\u001b[39;00m \u001b[39msklearn\u001b[39;00m\u001b[39m.\u001b[39;00m\u001b[39mmetrics\u001b[39;00m \u001b[39mimport\u001b[39;00m \u001b[39m*\u001b[39m\n\u001b[1;32m     <a href='vscode-notebook-cell:/Users/bumsoojoe/Desktop/kaggel%20project/Stanford-Ribonanza-RNA-Folding/test.ipynb#W0sZmlsZQ%3D%3D?line=16'>17</a>\u001b[0m \u001b[39mimport\u001b[39;00m \u001b[39mshap\u001b[39;00m\n\u001b[0;32m---> <a href='vscode-notebook-cell:/Users/bumsoojoe/Desktop/kaggel%20project/Stanford-Ribonanza-RNA-Folding/test.ipynb#W0sZmlsZQ%3D%3D?line=17'>18</a>\u001b[0m \u001b[39mfrom\u001b[39;00m \u001b[39mpdpbox\u001b[39;00m\u001b[39m.\u001b[39;00m\u001b[39mpdp\u001b[39;00m \u001b[39mimport\u001b[39;00m pdp_isolate, pdp_plot\n",
      "\u001b[0;31mImportError\u001b[0m: cannot import name 'pdp_isolate' from 'pdpbox.pdp' (/Users/bumsoojoe/anaconda3/envs/py/lib/python3.8/site-packages/pdpbox/pdp.py)"
     ]
    }
   ],
   "source": [
    "import pandas as pd\n",
    "import numpy as np\n",
    "import matplotlib as plt\n",
    "import seaborn as sns\n",
    "\n",
    "import warnings\n",
    "warnings.simplefilter(action='ignore')\n",
    "\n",
    "from sklearn.preprocessing import MinMaxScaler\n",
    "from sklearn.model_selection import train_test_split\n",
    "from sklearn.ensemble import RandomForestClassifier\n",
    "from sklearn.neighbors import KNeighborsClassifier\n",
    "from sklearn.linear_model import LogisticRegression\n",
    "from sklearn.model_selection import GridSearchCV\n",
    "from sklearn.metrics import *\n",
    "\n",
    "import shap\n",
    "from pdpbox.pdp import pdp_isolate, pdp_plot"
   ]
  },
  {
   "cell_type": "code",
   "execution_count": 2,
   "metadata": {},
   "outputs": [],
   "source": [
    "df = pd.read_csv('/Users/bumsoojoe/Desktop/kaggel project/Data/train_data.csv')"
   ]
  },
  {
   "cell_type": "code",
   "execution_count": 3,
   "metadata": {},
   "outputs": [
    {
     "data": {
      "text/html": [
       "<div>\n",
       "<style scoped>\n",
       "    .dataframe tbody tr th:only-of-type {\n",
       "        vertical-align: middle;\n",
       "    }\n",
       "\n",
       "    .dataframe tbody tr th {\n",
       "        vertical-align: top;\n",
       "    }\n",
       "\n",
       "    .dataframe thead th {\n",
       "        text-align: right;\n",
       "    }\n",
       "</style>\n",
       "<table border=\"1\" class=\"dataframe\">\n",
       "  <thead>\n",
       "    <tr style=\"text-align: right;\">\n",
       "      <th></th>\n",
       "      <th>sequence_id</th>\n",
       "      <th>sequence</th>\n",
       "      <th>experiment_type</th>\n",
       "      <th>dataset_name</th>\n",
       "      <th>reads</th>\n",
       "      <th>signal_to_noise</th>\n",
       "      <th>SN_filter</th>\n",
       "      <th>reactivity_0001</th>\n",
       "      <th>reactivity_0002</th>\n",
       "      <th>reactivity_0003</th>\n",
       "      <th>...</th>\n",
       "      <th>reactivity_error_0197</th>\n",
       "      <th>reactivity_error_0198</th>\n",
       "      <th>reactivity_error_0199</th>\n",
       "      <th>reactivity_error_0200</th>\n",
       "      <th>reactivity_error_0201</th>\n",
       "      <th>reactivity_error_0202</th>\n",
       "      <th>reactivity_error_0203</th>\n",
       "      <th>reactivity_error_0204</th>\n",
       "      <th>reactivity_error_0205</th>\n",
       "      <th>reactivity_error_0206</th>\n",
       "    </tr>\n",
       "  </thead>\n",
       "  <tbody>\n",
       "    <tr>\n",
       "      <th>0</th>\n",
       "      <td>8cdfeef009ea</td>\n",
       "      <td>GGGAACGACUCGAGUAGAGUCGAAAAACGUUGAUAUGGAUUUACUC...</td>\n",
       "      <td>2A3_MaP</td>\n",
       "      <td>15k_2A3</td>\n",
       "      <td>2343</td>\n",
       "      <td>0.944</td>\n",
       "      <td>0</td>\n",
       "      <td>NaN</td>\n",
       "      <td>NaN</td>\n",
       "      <td>NaN</td>\n",
       "      <td>...</td>\n",
       "      <td>NaN</td>\n",
       "      <td>NaN</td>\n",
       "      <td>NaN</td>\n",
       "      <td>NaN</td>\n",
       "      <td>NaN</td>\n",
       "      <td>NaN</td>\n",
       "      <td>NaN</td>\n",
       "      <td>NaN</td>\n",
       "      <td>NaN</td>\n",
       "      <td>NaN</td>\n",
       "    </tr>\n",
       "    <tr>\n",
       "      <th>1</th>\n",
       "      <td>51e61fbde94d</td>\n",
       "      <td>GGGAACGACUCGAGUAGAGUCGAAAAACAUUGAUAUGGAUUUACUC...</td>\n",
       "      <td>2A3_MaP</td>\n",
       "      <td>15k_2A3</td>\n",
       "      <td>5326</td>\n",
       "      <td>1.933</td>\n",
       "      <td>1</td>\n",
       "      <td>NaN</td>\n",
       "      <td>NaN</td>\n",
       "      <td>NaN</td>\n",
       "      <td>...</td>\n",
       "      <td>NaN</td>\n",
       "      <td>NaN</td>\n",
       "      <td>NaN</td>\n",
       "      <td>NaN</td>\n",
       "      <td>NaN</td>\n",
       "      <td>NaN</td>\n",
       "      <td>NaN</td>\n",
       "      <td>NaN</td>\n",
       "      <td>NaN</td>\n",
       "      <td>NaN</td>\n",
       "    </tr>\n",
       "    <tr>\n",
       "      <th>2</th>\n",
       "      <td>25ce8d5109cd</td>\n",
       "      <td>GGGAACGACUCGAGUAGAGUCGAAAAACCUUGAUAUGGAUUUACUC...</td>\n",
       "      <td>2A3_MaP</td>\n",
       "      <td>15k_2A3</td>\n",
       "      <td>4647</td>\n",
       "      <td>2.347</td>\n",
       "      <td>1</td>\n",
       "      <td>NaN</td>\n",
       "      <td>NaN</td>\n",
       "      <td>NaN</td>\n",
       "      <td>...</td>\n",
       "      <td>NaN</td>\n",
       "      <td>NaN</td>\n",
       "      <td>NaN</td>\n",
       "      <td>NaN</td>\n",
       "      <td>NaN</td>\n",
       "      <td>NaN</td>\n",
       "      <td>NaN</td>\n",
       "      <td>NaN</td>\n",
       "      <td>NaN</td>\n",
       "      <td>NaN</td>\n",
       "    </tr>\n",
       "    <tr>\n",
       "      <th>3</th>\n",
       "      <td>07dcfb6d1965</td>\n",
       "      <td>GGGAACGACUCGAGUAGAGUCGAAAAACUUUGAUAUGGAUUUACUC...</td>\n",
       "      <td>2A3_MaP</td>\n",
       "      <td>15k_2A3</td>\n",
       "      <td>102843</td>\n",
       "      <td>11.824</td>\n",
       "      <td>1</td>\n",
       "      <td>NaN</td>\n",
       "      <td>NaN</td>\n",
       "      <td>NaN</td>\n",
       "      <td>...</td>\n",
       "      <td>NaN</td>\n",
       "      <td>NaN</td>\n",
       "      <td>NaN</td>\n",
       "      <td>NaN</td>\n",
       "      <td>NaN</td>\n",
       "      <td>NaN</td>\n",
       "      <td>NaN</td>\n",
       "      <td>NaN</td>\n",
       "      <td>NaN</td>\n",
       "      <td>NaN</td>\n",
       "    </tr>\n",
       "    <tr>\n",
       "      <th>4</th>\n",
       "      <td>e561cc042a4c</td>\n",
       "      <td>GGGAACGACUCGAGUAGAGUCGAAAAACGAUGAUAUGGAUUUACUC...</td>\n",
       "      <td>2A3_MaP</td>\n",
       "      <td>15k_2A3</td>\n",
       "      <td>7665</td>\n",
       "      <td>3.519</td>\n",
       "      <td>1</td>\n",
       "      <td>NaN</td>\n",
       "      <td>NaN</td>\n",
       "      <td>NaN</td>\n",
       "      <td>...</td>\n",
       "      <td>NaN</td>\n",
       "      <td>NaN</td>\n",
       "      <td>NaN</td>\n",
       "      <td>NaN</td>\n",
       "      <td>NaN</td>\n",
       "      <td>NaN</td>\n",
       "      <td>NaN</td>\n",
       "      <td>NaN</td>\n",
       "      <td>NaN</td>\n",
       "      <td>NaN</td>\n",
       "    </tr>\n",
       "    <tr>\n",
       "      <th>...</th>\n",
       "      <td>...</td>\n",
       "      <td>...</td>\n",
       "      <td>...</td>\n",
       "      <td>...</td>\n",
       "      <td>...</td>\n",
       "      <td>...</td>\n",
       "      <td>...</td>\n",
       "      <td>...</td>\n",
       "      <td>...</td>\n",
       "      <td>...</td>\n",
       "      <td>...</td>\n",
       "      <td>...</td>\n",
       "      <td>...</td>\n",
       "      <td>...</td>\n",
       "      <td>...</td>\n",
       "      <td>...</td>\n",
       "      <td>...</td>\n",
       "      <td>...</td>\n",
       "      <td>...</td>\n",
       "      <td>...</td>\n",
       "      <td>...</td>\n",
       "    </tr>\n",
       "    <tr>\n",
       "      <th>1643675</th>\n",
       "      <td>7951fb2f47f1</td>\n",
       "      <td>GGGAACGACUCGAGUAGAGUCGAAAAGGAGCGUCGUGUCUCUUGUA...</td>\n",
       "      <td>DMS_MaP</td>\n",
       "      <td>SL5_M2seq_DMS</td>\n",
       "      <td>37530</td>\n",
       "      <td>7.248</td>\n",
       "      <td>1</td>\n",
       "      <td>NaN</td>\n",
       "      <td>NaN</td>\n",
       "      <td>NaN</td>\n",
       "      <td>...</td>\n",
       "      <td>NaN</td>\n",
       "      <td>NaN</td>\n",
       "      <td>NaN</td>\n",
       "      <td>NaN</td>\n",
       "      <td>NaN</td>\n",
       "      <td>NaN</td>\n",
       "      <td>NaN</td>\n",
       "      <td>NaN</td>\n",
       "      <td>NaN</td>\n",
       "      <td>NaN</td>\n",
       "    </tr>\n",
       "    <tr>\n",
       "      <th>1643676</th>\n",
       "      <td>e0dc5823e5e1</td>\n",
       "      <td>GGGAACGACUCGAGUAGAGUCGAAAAGGAGCGUCGUGUCUCUUGUA...</td>\n",
       "      <td>DMS_MaP</td>\n",
       "      <td>SL5_M2seq_DMS</td>\n",
       "      <td>337248</td>\n",
       "      <td>17.902</td>\n",
       "      <td>1</td>\n",
       "      <td>NaN</td>\n",
       "      <td>NaN</td>\n",
       "      <td>NaN</td>\n",
       "      <td>...</td>\n",
       "      <td>NaN</td>\n",
       "      <td>NaN</td>\n",
       "      <td>NaN</td>\n",
       "      <td>NaN</td>\n",
       "      <td>NaN</td>\n",
       "      <td>NaN</td>\n",
       "      <td>NaN</td>\n",
       "      <td>NaN</td>\n",
       "      <td>NaN</td>\n",
       "      <td>NaN</td>\n",
       "    </tr>\n",
       "    <tr>\n",
       "      <th>1643677</th>\n",
       "      <td>0d6036529b42</td>\n",
       "      <td>GGGAACGACUCGAGUAGAGUCGAAAAGGAGCGUCGUGUCUCUUGUA...</td>\n",
       "      <td>DMS_MaP</td>\n",
       "      <td>SL5_M2seq_DMS</td>\n",
       "      <td>44053</td>\n",
       "      <td>6.700</td>\n",
       "      <td>1</td>\n",
       "      <td>NaN</td>\n",
       "      <td>NaN</td>\n",
       "      <td>NaN</td>\n",
       "      <td>...</td>\n",
       "      <td>NaN</td>\n",
       "      <td>NaN</td>\n",
       "      <td>NaN</td>\n",
       "      <td>NaN</td>\n",
       "      <td>NaN</td>\n",
       "      <td>NaN</td>\n",
       "      <td>NaN</td>\n",
       "      <td>NaN</td>\n",
       "      <td>NaN</td>\n",
       "      <td>NaN</td>\n",
       "    </tr>\n",
       "    <tr>\n",
       "      <th>1643678</th>\n",
       "      <td>46d1f07d723b</td>\n",
       "      <td>GGGAACGACUCGAGUAGAGUCGAAAAGGAGCGUCGUGUCUCUUGUA...</td>\n",
       "      <td>DMS_MaP</td>\n",
       "      <td>SL5_M2seq_DMS</td>\n",
       "      <td>108600</td>\n",
       "      <td>11.716</td>\n",
       "      <td>1</td>\n",
       "      <td>NaN</td>\n",
       "      <td>NaN</td>\n",
       "      <td>NaN</td>\n",
       "      <td>...</td>\n",
       "      <td>NaN</td>\n",
       "      <td>NaN</td>\n",
       "      <td>NaN</td>\n",
       "      <td>NaN</td>\n",
       "      <td>NaN</td>\n",
       "      <td>NaN</td>\n",
       "      <td>NaN</td>\n",
       "      <td>NaN</td>\n",
       "      <td>NaN</td>\n",
       "      <td>NaN</td>\n",
       "    </tr>\n",
       "    <tr>\n",
       "      <th>1643679</th>\n",
       "      <td>60db72cc009f</td>\n",
       "      <td>GGGAACGACUCGAGUAGAGUCGAAAAGGAGCGUCGUGUCUCUUGUA...</td>\n",
       "      <td>DMS_MaP</td>\n",
       "      <td>SL5_M2seq_DMS</td>\n",
       "      <td>107394</td>\n",
       "      <td>10.888</td>\n",
       "      <td>1</td>\n",
       "      <td>NaN</td>\n",
       "      <td>NaN</td>\n",
       "      <td>NaN</td>\n",
       "      <td>...</td>\n",
       "      <td>NaN</td>\n",
       "      <td>NaN</td>\n",
       "      <td>NaN</td>\n",
       "      <td>NaN</td>\n",
       "      <td>NaN</td>\n",
       "      <td>NaN</td>\n",
       "      <td>NaN</td>\n",
       "      <td>NaN</td>\n",
       "      <td>NaN</td>\n",
       "      <td>NaN</td>\n",
       "    </tr>\n",
       "  </tbody>\n",
       "</table>\n",
       "<p>1643680 rows × 419 columns</p>\n",
       "</div>"
      ],
      "text/plain": [
       "          sequence_id                                           sequence  \\\n",
       "0        8cdfeef009ea  GGGAACGACUCGAGUAGAGUCGAAAAACGUUGAUAUGGAUUUACUC...   \n",
       "1        51e61fbde94d  GGGAACGACUCGAGUAGAGUCGAAAAACAUUGAUAUGGAUUUACUC...   \n",
       "2        25ce8d5109cd  GGGAACGACUCGAGUAGAGUCGAAAAACCUUGAUAUGGAUUUACUC...   \n",
       "3        07dcfb6d1965  GGGAACGACUCGAGUAGAGUCGAAAAACUUUGAUAUGGAUUUACUC...   \n",
       "4        e561cc042a4c  GGGAACGACUCGAGUAGAGUCGAAAAACGAUGAUAUGGAUUUACUC...   \n",
       "...               ...                                                ...   \n",
       "1643675  7951fb2f47f1  GGGAACGACUCGAGUAGAGUCGAAAAGGAGCGUCGUGUCUCUUGUA...   \n",
       "1643676  e0dc5823e5e1  GGGAACGACUCGAGUAGAGUCGAAAAGGAGCGUCGUGUCUCUUGUA...   \n",
       "1643677  0d6036529b42  GGGAACGACUCGAGUAGAGUCGAAAAGGAGCGUCGUGUCUCUUGUA...   \n",
       "1643678  46d1f07d723b  GGGAACGACUCGAGUAGAGUCGAAAAGGAGCGUCGUGUCUCUUGUA...   \n",
       "1643679  60db72cc009f  GGGAACGACUCGAGUAGAGUCGAAAAGGAGCGUCGUGUCUCUUGUA...   \n",
       "\n",
       "        experiment_type   dataset_name   reads  signal_to_noise  SN_filter  \\\n",
       "0               2A3_MaP        15k_2A3    2343            0.944          0   \n",
       "1               2A3_MaP        15k_2A3    5326            1.933          1   \n",
       "2               2A3_MaP        15k_2A3    4647            2.347          1   \n",
       "3               2A3_MaP        15k_2A3  102843           11.824          1   \n",
       "4               2A3_MaP        15k_2A3    7665            3.519          1   \n",
       "...                 ...            ...     ...              ...        ...   \n",
       "1643675         DMS_MaP  SL5_M2seq_DMS   37530            7.248          1   \n",
       "1643676         DMS_MaP  SL5_M2seq_DMS  337248           17.902          1   \n",
       "1643677         DMS_MaP  SL5_M2seq_DMS   44053            6.700          1   \n",
       "1643678         DMS_MaP  SL5_M2seq_DMS  108600           11.716          1   \n",
       "1643679         DMS_MaP  SL5_M2seq_DMS  107394           10.888          1   \n",
       "\n",
       "         reactivity_0001  reactivity_0002  reactivity_0003  ...  \\\n",
       "0                    NaN              NaN              NaN  ...   \n",
       "1                    NaN              NaN              NaN  ...   \n",
       "2                    NaN              NaN              NaN  ...   \n",
       "3                    NaN              NaN              NaN  ...   \n",
       "4                    NaN              NaN              NaN  ...   \n",
       "...                  ...              ...              ...  ...   \n",
       "1643675              NaN              NaN              NaN  ...   \n",
       "1643676              NaN              NaN              NaN  ...   \n",
       "1643677              NaN              NaN              NaN  ...   \n",
       "1643678              NaN              NaN              NaN  ...   \n",
       "1643679              NaN              NaN              NaN  ...   \n",
       "\n",
       "         reactivity_error_0197  reactivity_error_0198  reactivity_error_0199  \\\n",
       "0                          NaN                    NaN                    NaN   \n",
       "1                          NaN                    NaN                    NaN   \n",
       "2                          NaN                    NaN                    NaN   \n",
       "3                          NaN                    NaN                    NaN   \n",
       "4                          NaN                    NaN                    NaN   \n",
       "...                        ...                    ...                    ...   \n",
       "1643675                    NaN                    NaN                    NaN   \n",
       "1643676                    NaN                    NaN                    NaN   \n",
       "1643677                    NaN                    NaN                    NaN   \n",
       "1643678                    NaN                    NaN                    NaN   \n",
       "1643679                    NaN                    NaN                    NaN   \n",
       "\n",
       "         reactivity_error_0200  reactivity_error_0201  reactivity_error_0202  \\\n",
       "0                          NaN                    NaN                    NaN   \n",
       "1                          NaN                    NaN                    NaN   \n",
       "2                          NaN                    NaN                    NaN   \n",
       "3                          NaN                    NaN                    NaN   \n",
       "4                          NaN                    NaN                    NaN   \n",
       "...                        ...                    ...                    ...   \n",
       "1643675                    NaN                    NaN                    NaN   \n",
       "1643676                    NaN                    NaN                    NaN   \n",
       "1643677                    NaN                    NaN                    NaN   \n",
       "1643678                    NaN                    NaN                    NaN   \n",
       "1643679                    NaN                    NaN                    NaN   \n",
       "\n",
       "         reactivity_error_0203  reactivity_error_0204  reactivity_error_0205  \\\n",
       "0                          NaN                    NaN                    NaN   \n",
       "1                          NaN                    NaN                    NaN   \n",
       "2                          NaN                    NaN                    NaN   \n",
       "3                          NaN                    NaN                    NaN   \n",
       "4                          NaN                    NaN                    NaN   \n",
       "...                        ...                    ...                    ...   \n",
       "1643675                    NaN                    NaN                    NaN   \n",
       "1643676                    NaN                    NaN                    NaN   \n",
       "1643677                    NaN                    NaN                    NaN   \n",
       "1643678                    NaN                    NaN                    NaN   \n",
       "1643679                    NaN                    NaN                    NaN   \n",
       "\n",
       "         reactivity_error_0206  \n",
       "0                          NaN  \n",
       "1                          NaN  \n",
       "2                          NaN  \n",
       "3                          NaN  \n",
       "4                          NaN  \n",
       "...                        ...  \n",
       "1643675                    NaN  \n",
       "1643676                    NaN  \n",
       "1643677                    NaN  \n",
       "1643678                    NaN  \n",
       "1643679                    NaN  \n",
       "\n",
       "[1643680 rows x 419 columns]"
      ]
     },
     "execution_count": 3,
     "metadata": {},
     "output_type": "execute_result"
    }
   ],
   "source": [
    "df"
   ]
  },
  {
   "cell_type": "code",
   "execution_count": 4,
   "metadata": {},
   "outputs": [
    {
     "name": "stdout",
     "output_type": "stream",
     "text": [
      "같은 염기서열 수 : 170\n",
      "다른 염시서열 수 : 0\n"
     ]
    }
   ],
   "source": [
    "# 하나의 서열이 같은 것이 존재하는가?\n",
    "test1 = df['sequence'][0]\n",
    "test2 = df['sequence'][0]\n",
    "s = 0\n",
    "n = 0\n",
    "for i in range(0,len(test1)):\n",
    "    if test1[i] == test2[i]:\n",
    "        s += 1\n",
    "    else:\n",
    "        n += 1\n",
    "print('같은 염기서열 수 :',s)\n",
    "print('다른 염시서열 수 :',n)"
   ]
  },
  {
   "cell_type": "code",
   "execution_count": 5,
   "metadata": {},
   "outputs": [
    {
     "data": {
      "text/plain": [
       "experiment_type\n",
       "2A3_MaP    821840\n",
       "DMS_MaP    821840\n",
       "Name: count, dtype: int64"
      ]
     },
     "execution_count": 5,
     "metadata": {},
     "output_type": "execute_result"
    }
   ],
   "source": [
    "df['experiment_type'].value_counts()"
   ]
  },
  {
   "cell_type": "code",
   "execution_count": 6,
   "metadata": {},
   "outputs": [
    {
     "name": "stdout",
     "output_type": "stream",
     "text": [
      "15267\n"
     ]
    }
   ],
   "source": [
    "# 같은 서열이 과연 몇개나 존재하는가?\n",
    "test3 = list(df[df['experiment_type']=='2A3_MaP']['sequence'].value_counts().index)\n",
    "print(len(list(df[df['experiment_type']=='2A3_MaP']['sequence'])) - len(test3))"
   ]
  },
  {
   "cell_type": "code",
   "execution_count": 17,
   "metadata": {},
   "outputs": [
    {
     "data": {
      "text/plain": [
       "206"
      ]
     },
     "execution_count": 17,
     "metadata": {},
     "output_type": "execute_result"
    }
   ],
   "source": [
    "lenlist = []\n",
    "for i in test3:\n",
    "    lenlist.append(len(i))\n",
    "max(lenlist)"
   ]
  },
  {
   "cell_type": "code",
   "execution_count": 7,
   "metadata": {},
   "outputs": [
    {
     "data": {
      "text/plain": [
       "806573"
      ]
     },
     "execution_count": 7,
     "metadata": {},
     "output_type": "execute_result"
    }
   ],
   "source": [
    "len(test3)"
   ]
  },
  {
   "cell_type": "code",
   "execution_count": 8,
   "metadata": {},
   "outputs": [
    {
     "name": "stdout",
     "output_type": "stream",
     "text": [
      "15267\n"
     ]
    }
   ],
   "source": [
    "test4 = list(df[df['experiment_type']=='DMS_MaP']['sequence'].value_counts().index)\n",
    "print(len(list(df[df['experiment_type']=='DMS_MaP']['sequence'])) - len(test3))"
   ]
  },
  {
   "cell_type": "code",
   "execution_count": 18,
   "metadata": {},
   "outputs": [
    {
     "data": {
      "text/plain": [
       "206"
      ]
     },
     "execution_count": 18,
     "metadata": {},
     "output_type": "execute_result"
    }
   ],
   "source": [
    "lenlist2 = []\n",
    "for i in test4:\n",
    "    lenlist2.append(len(i))\n",
    "max(lenlist2)"
   ]
  },
  {
   "cell_type": "code",
   "execution_count": 9,
   "metadata": {},
   "outputs": [
    {
     "name": "stdout",
     "output_type": "stream",
     "text": [
      "23\n"
     ]
    }
   ],
   "source": [
    "print(len(df[df['experiment_type']=='DMS_MaP']['dataset_name'].value_counts().index))"
   ]
  },
  {
   "cell_type": "code",
   "execution_count": 10,
   "metadata": {},
   "outputs": [
    {
     "data": {
      "text/html": [
       "<div>\n",
       "<style scoped>\n",
       "    .dataframe tbody tr th:only-of-type {\n",
       "        vertical-align: middle;\n",
       "    }\n",
       "\n",
       "    .dataframe tbody tr th {\n",
       "        vertical-align: top;\n",
       "    }\n",
       "\n",
       "    .dataframe thead th {\n",
       "        text-align: right;\n",
       "    }\n",
       "</style>\n",
       "<table border=\"1\" class=\"dataframe\">\n",
       "  <thead>\n",
       "    <tr style=\"text-align: right;\">\n",
       "      <th></th>\n",
       "      <th>sequence_id</th>\n",
       "      <th>sequence</th>\n",
       "      <th>experiment_type</th>\n",
       "      <th>dataset_name</th>\n",
       "      <th>reads</th>\n",
       "      <th>signal_to_noise</th>\n",
       "      <th>SN_filter</th>\n",
       "      <th>reactivity_0027</th>\n",
       "      <th>reactivity_0028</th>\n",
       "      <th>reactivity_0029</th>\n",
       "      <th>...</th>\n",
       "      <th>reactivity_error_0120</th>\n",
       "      <th>reactivity_error_0121</th>\n",
       "      <th>reactivity_error_0122</th>\n",
       "      <th>reactivity_error_0123</th>\n",
       "      <th>reactivity_error_0124</th>\n",
       "      <th>reactivity_error_0125</th>\n",
       "      <th>reactivity_error_0126</th>\n",
       "      <th>reactivity_error_0127</th>\n",
       "      <th>reactivity_error_0128</th>\n",
       "      <th>reactivity_error_0129</th>\n",
       "    </tr>\n",
       "  </thead>\n",
       "  <tbody>\n",
       "    <tr>\n",
       "      <th>0</th>\n",
       "      <td>8cdfeef009ea</td>\n",
       "      <td>GGGAACGACUCGAGUAGAGUCGAAAAACGUUGAUAUGGAUUUACUC...</td>\n",
       "      <td>2A3_MaP</td>\n",
       "      <td>15k_2A3</td>\n",
       "      <td>2343</td>\n",
       "      <td>0.944</td>\n",
       "      <td>0</td>\n",
       "      <td>-0.039</td>\n",
       "      <td>0.455</td>\n",
       "      <td>-0.207</td>\n",
       "      <td>...</td>\n",
       "      <td>0.224</td>\n",
       "      <td>0.085</td>\n",
       "      <td>0.085</td>\n",
       "      <td>0.1</td>\n",
       "      <td>0.224</td>\n",
       "      <td>0.286</td>\n",
       "      <td>0.246</td>\n",
       "      <td>0.085</td>\n",
       "      <td>0.224</td>\n",
       "      <td>0.254</td>\n",
       "    </tr>\n",
       "  </tbody>\n",
       "</table>\n",
       "<p>1 rows × 213 columns</p>\n",
       "</div>"
      ],
      "text/plain": [
       "    sequence_id                                           sequence  \\\n",
       "0  8cdfeef009ea  GGGAACGACUCGAGUAGAGUCGAAAAACGUUGAUAUGGAUUUACUC...   \n",
       "\n",
       "  experiment_type dataset_name  reads  signal_to_noise  SN_filter  \\\n",
       "0         2A3_MaP      15k_2A3   2343            0.944          0   \n",
       "\n",
       "   reactivity_0027  reactivity_0028  reactivity_0029  ...  \\\n",
       "0           -0.039            0.455           -0.207  ...   \n",
       "\n",
       "   reactivity_error_0120  reactivity_error_0121  reactivity_error_0122  \\\n",
       "0                  0.224                  0.085                  0.085   \n",
       "\n",
       "   reactivity_error_0123  reactivity_error_0124  reactivity_error_0125  \\\n",
       "0                    0.1                  0.224                  0.286   \n",
       "\n",
       "   reactivity_error_0126  reactivity_error_0127  reactivity_error_0128  \\\n",
       "0                  0.246                  0.085                  0.224   \n",
       "\n",
       "   reactivity_error_0129  \n",
       "0                  0.254  \n",
       "\n",
       "[1 rows x 213 columns]"
      ]
     },
     "execution_count": 10,
     "metadata": {},
     "output_type": "execute_result"
    }
   ],
   "source": [
    "first_row = df[0:1]\n",
    "\n",
    "# NaN이 아닌 컬럼만 반환\n",
    "non_nan_columns = first_row.dropna(axis=1)\n",
    "\n",
    "non_nan_columns"
   ]
  },
  {
   "cell_type": "code",
   "execution_count": 11,
   "metadata": {},
   "outputs": [],
   "source": [
    "example_list = list(df[0:1].columns)[7:]"
   ]
  },
  {
   "cell_type": "code",
   "execution_count": 13,
   "metadata": {},
   "outputs": [],
   "source": [
    "items_with_error = [item for item in example_list if \"error\" in item]\n",
    "items_without_error = [item for item in example_list if \"error\" not in item]"
   ]
  },
  {
   "cell_type": "code",
   "execution_count": 14,
   "metadata": {},
   "outputs": [
    {
     "data": {
      "text/plain": [
       "206"
      ]
     },
     "execution_count": 14,
     "metadata": {},
     "output_type": "execute_result"
    }
   ],
   "source": [
    "len(items_with_error)"
   ]
  },
  {
   "cell_type": "code",
   "execution_count": 15,
   "metadata": {},
   "outputs": [
    {
     "data": {
      "text/plain": [
       "206"
      ]
     },
     "execution_count": 15,
     "metadata": {},
     "output_type": "execute_result"
    }
   ],
   "source": [
    "len(items_without_error)"
   ]
  },
  {
   "cell_type": "code",
   "execution_count": 12,
   "metadata": {},
   "outputs": [
    {
     "data": {
      "text/plain": [
       "sequence_id                    0\n",
       "sequence                       0\n",
       "experiment_type                0\n",
       "dataset_name                   0\n",
       "reads                          0\n",
       "                          ...   \n",
       "reactivity_error_0015    1643680\n",
       "reactivity_error_0016    1643680\n",
       "reactivity_error_0017    1643680\n",
       "reactivity_error_0003    1643680\n",
       "reactivity_error_0206    1643680\n",
       "Length: 419, dtype: int64"
      ]
     },
     "execution_count": 12,
     "metadata": {},
     "output_type": "execute_result"
    }
   ],
   "source": [
    "df.isna().sum().sort_values()"
   ]
  },
  {
   "cell_type": "code",
   "execution_count": 23,
   "metadata": {},
   "outputs": [
    {
     "data": {
      "text/plain": [
       "1643680"
      ]
     },
     "execution_count": 23,
     "metadata": {},
     "output_type": "execute_result"
    }
   ],
   "source": [
    "df['reactivity_0001'].isna().sum()"
   ]
  },
  {
   "cell_type": "code",
   "execution_count": 29,
   "metadata": {},
   "outputs": [
    {
     "data": {
      "text/plain": [
       "1643680"
      ]
     },
     "execution_count": 29,
     "metadata": {},
     "output_type": "execute_result"
    }
   ],
   "source": [
    "df.shape[0]"
   ]
  },
  {
   "cell_type": "code",
   "execution_count": 30,
   "metadata": {},
   "outputs": [
    {
     "name": "stdout",
     "output_type": "stream",
     "text": [
      "134\n"
     ]
    }
   ],
   "source": [
    "ALLNaN = []\n",
    "for i in example_list:\n",
    "    if df[i].isna().sum() == df.shape[0]:\n",
    "        ALLNaN.append(i)\n",
    "print(len(ALLNaN))"
   ]
  },
  {
   "cell_type": "code",
   "execution_count": 31,
   "metadata": {},
   "outputs": [
    {
     "data": {
      "text/html": [
       "<div>\n",
       "<style scoped>\n",
       "    .dataframe tbody tr th:only-of-type {\n",
       "        vertical-align: middle;\n",
       "    }\n",
       "\n",
       "    .dataframe tbody tr th {\n",
       "        vertical-align: top;\n",
       "    }\n",
       "\n",
       "    .dataframe thead th {\n",
       "        text-align: right;\n",
       "    }\n",
       "</style>\n",
       "<table border=\"1\" class=\"dataframe\">\n",
       "  <thead>\n",
       "    <tr style=\"text-align: right;\">\n",
       "      <th></th>\n",
       "      <th>id_min</th>\n",
       "      <th>id_max</th>\n",
       "      <th>sequence_id</th>\n",
       "      <th>sequence</th>\n",
       "      <th>future</th>\n",
       "    </tr>\n",
       "  </thead>\n",
       "  <tbody>\n",
       "    <tr>\n",
       "      <th>0</th>\n",
       "      <td>0</td>\n",
       "      <td>176</td>\n",
       "      <td>eee73c1836bc</td>\n",
       "      <td>GGGAACGACUCGAGUAGAGUCGAAAAUUUCCUUCCAAAUCCUGAGG...</td>\n",
       "      <td>0</td>\n",
       "    </tr>\n",
       "    <tr>\n",
       "      <th>1</th>\n",
       "      <td>177</td>\n",
       "      <td>353</td>\n",
       "      <td>d2a929af7a97</td>\n",
       "      <td>GGGAACGACUCGAGUAGAGUCGAAAAUGUAAUCAGAUUGCUUCUCC...</td>\n",
       "      <td>0</td>\n",
       "    </tr>\n",
       "    <tr>\n",
       "      <th>2</th>\n",
       "      <td>354</td>\n",
       "      <td>530</td>\n",
       "      <td>d39a4425ff45</td>\n",
       "      <td>GGGAACGACUCGAGUAGAGUCGAAAAAACACAUGAAUUUGAGGGUU...</td>\n",
       "      <td>0</td>\n",
       "    </tr>\n",
       "    <tr>\n",
       "      <th>3</th>\n",
       "      <td>531</td>\n",
       "      <td>707</td>\n",
       "      <td>1fc41e92d553</td>\n",
       "      <td>GGGAACGACUCGAGUAGAGUCGAAAAUCAGAGCUGGCAAAUGGAUG...</td>\n",
       "      <td>0</td>\n",
       "    </tr>\n",
       "    <tr>\n",
       "      <th>4</th>\n",
       "      <td>708</td>\n",
       "      <td>884</td>\n",
       "      <td>1d0826fb892f</td>\n",
       "      <td>GGGAACGACUCGAGUAGAGUCGAAAAUUUGGUAUUUGAUGCAUUAA...</td>\n",
       "      <td>0</td>\n",
       "    </tr>\n",
       "    <tr>\n",
       "      <th>...</th>\n",
       "      <td>...</td>\n",
       "      <td>...</td>\n",
       "      <td>...</td>\n",
       "      <td>...</td>\n",
       "      <td>...</td>\n",
       "    </tr>\n",
       "    <tr>\n",
       "      <th>1343818</th>\n",
       "      <td>269794386</td>\n",
       "      <td>269794842</td>\n",
       "      <td>3cf515909422</td>\n",
       "      <td>GGGAACGACUCGAGUAGAGUCGAAAAGGAGGGAAAAGUUAUCAGGC...</td>\n",
       "      <td>1</td>\n",
       "    </tr>\n",
       "    <tr>\n",
       "      <th>1343819</th>\n",
       "      <td>269794843</td>\n",
       "      <td>269795299</td>\n",
       "      <td>3606852d6c2b</td>\n",
       "      <td>GGGAACGACUCGAGUAGAGUCGAAAAGGAGGGAAAAGUUAUCAGGC...</td>\n",
       "      <td>1</td>\n",
       "    </tr>\n",
       "    <tr>\n",
       "      <th>1343820</th>\n",
       "      <td>269795300</td>\n",
       "      <td>269795756</td>\n",
       "      <td>49b9448fd455</td>\n",
       "      <td>GGGAACGACUCGAGUAGAGUCGAAAAGGAGGGAAAAGUUAUCAGGC...</td>\n",
       "      <td>1</td>\n",
       "    </tr>\n",
       "    <tr>\n",
       "      <th>1343821</th>\n",
       "      <td>269795757</td>\n",
       "      <td>269796213</td>\n",
       "      <td>eb9bd6372550</td>\n",
       "      <td>GGGAACGACUCGAGUAGAGUCGAAAAGGAGGGAAAAGUUAUCAGGC...</td>\n",
       "      <td>1</td>\n",
       "    </tr>\n",
       "    <tr>\n",
       "      <th>1343822</th>\n",
       "      <td>269796214</td>\n",
       "      <td>269796670</td>\n",
       "      <td>0dd65209259b</td>\n",
       "      <td>GGGAACGACUCGAGUAGAGUCGAAAAGGAGGGAAAAGUUAUCAGGC...</td>\n",
       "      <td>1</td>\n",
       "    </tr>\n",
       "  </tbody>\n",
       "</table>\n",
       "<p>1343823 rows × 5 columns</p>\n",
       "</div>"
      ],
      "text/plain": [
       "            id_min     id_max   sequence_id  \\\n",
       "0                0        176  eee73c1836bc   \n",
       "1              177        353  d2a929af7a97   \n",
       "2              354        530  d39a4425ff45   \n",
       "3              531        707  1fc41e92d553   \n",
       "4              708        884  1d0826fb892f   \n",
       "...            ...        ...           ...   \n",
       "1343818  269794386  269794842  3cf515909422   \n",
       "1343819  269794843  269795299  3606852d6c2b   \n",
       "1343820  269795300  269795756  49b9448fd455   \n",
       "1343821  269795757  269796213  eb9bd6372550   \n",
       "1343822  269796214  269796670  0dd65209259b   \n",
       "\n",
       "                                                  sequence  future  \n",
       "0        GGGAACGACUCGAGUAGAGUCGAAAAUUUCCUUCCAAAUCCUGAGG...       0  \n",
       "1        GGGAACGACUCGAGUAGAGUCGAAAAUGUAAUCAGAUUGCUUCUCC...       0  \n",
       "2        GGGAACGACUCGAGUAGAGUCGAAAAAACACAUGAAUUUGAGGGUU...       0  \n",
       "3        GGGAACGACUCGAGUAGAGUCGAAAAUCAGAGCUGGCAAAUGGAUG...       0  \n",
       "4        GGGAACGACUCGAGUAGAGUCGAAAAUUUGGUAUUUGAUGCAUUAA...       0  \n",
       "...                                                    ...     ...  \n",
       "1343818  GGGAACGACUCGAGUAGAGUCGAAAAGGAGGGAAAAGUUAUCAGGC...       1  \n",
       "1343819  GGGAACGACUCGAGUAGAGUCGAAAAGGAGGGAAAAGUUAUCAGGC...       1  \n",
       "1343820  GGGAACGACUCGAGUAGAGUCGAAAAGGAGGGAAAAGUUAUCAGGC...       1  \n",
       "1343821  GGGAACGACUCGAGUAGAGUCGAAAAGGAGGGAAAAGUUAUCAGGC...       1  \n",
       "1343822  GGGAACGACUCGAGUAGAGUCGAAAAGGAGGGAAAAGUUAUCAGGC...       1  \n",
       "\n",
       "[1343823 rows x 5 columns]"
      ]
     },
     "execution_count": 31,
     "metadata": {},
     "output_type": "execute_result"
    }
   ],
   "source": [
    "test10 = pd.read_csv('/Users/bumsoojoe/Desktop/kaggel project/Data/test_sequences.csv')\n",
    "test10"
   ]
  }
 ],
 "metadata": {
  "kernelspec": {
   "display_name": "py",
   "language": "python",
   "name": "python3"
  },
  "language_info": {
   "codemirror_mode": {
    "name": "ipython",
    "version": 3
   },
   "file_extension": ".py",
   "mimetype": "text/x-python",
   "name": "python",
   "nbconvert_exporter": "python",
   "pygments_lexer": "ipython3",
   "version": "3.8.17"
  },
  "orig_nbformat": 4
 },
 "nbformat": 4,
 "nbformat_minor": 2
}
